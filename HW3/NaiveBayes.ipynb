{
 "cells": [
  {
   "cell_type": "markdown",
   "metadata": {},
   "source": [
    "When median values are quantized as 0, one gets error ~ 12%.\n",
    "When median values are quantized as 1, one gets error ~ 22%.\n",
    "When taking popular vote, error is 39.60%."
   ]
  },
  {
   "cell_type": "code",
   "execution_count": 8,
   "metadata": {},
   "outputs": [
    {
     "name": "stdout",
     "output_type": "stream",
     "text": [
      "10.957324106113035   38.83121876201461\n"
     ]
    }
   ],
   "source": [
    "import numpy as np\n",
    "import pandas as pd\n",
    "spambase = np.loadtxt('spambase.data', delimiter=',')\n",
    "np.random.shuffle(spambase)\n",
    "X_train = spambase[:2000, :-1]\n",
    "y_train = spambase[:2000, -1].astype(int)\n",
    "y_test = spambase[2000:, -1].astype(int)\n",
    "\n",
    "# Calculating median & Quantizing\n",
    "X_train_median = np.median(X_train, axis=0)\n",
    "X_train_quantized = np.greater(X_train, X_train_median).astype(int)\n",
    "df_X_test_quantized = pd.DataFrame(np.greater(spambase[2000:, :-1], X_train_median)\\\n",
    "                                   .astype(int))\n",
    "\n",
    "# Calculating P[X_i={0,1}|y] & P[y={0,1}] from training data\n",
    "df_X_train_quantized_with_y = pd.DataFrame(\\\n",
    "                    np.append(X_train_quantized, y_train.reshape(\\\n",
    "                    (y_train.shape[0], 1)), axis=1))\n",
    "prob_X_train_cols_0_given_y = 1 - df_X_train_quantized_with_y.groupby([57]).mean()\n",
    "prob_y_1 = df_X_train_quantized_with_y[57].mean()\n",
    "\n",
    "# Predicting & Error calculations\n",
    "df_prob_X_test_cols_given_y_0 = df_X_test_quantized.apply(\n",
    "    lambda x: np.abs(x - prob_X_train_cols_0_given_y.iloc[0, x.name]), axis=0)\n",
    "df_prob_X_test_cols_given_y_1 = df_X_test_quantized.apply(\n",
    "    lambda x: np.abs(x - prob_X_train_cols_0_given_y.iloc[1, x.name]), axis=0)\n",
    "\n",
    "df_prob = pd.concat([df_prob_X_test_cols_given_y_0.prod(axis=1) * (1 - prob_y_1),\n",
    "                     df_prob_X_test_cols_given_y_1.prod(axis=1) * prob_y_1], axis=1)\n",
    "\n",
    "test_err = np.sum(np.abs(df_prob.idxmax(axis=1) - y_test))/2601\n",
    "popular_test_err = np.sum(np.abs(0 - y_test))/2601\n",
    "print(test_err*100, \" \", popular_test_err*100)"
   ]
  }
 ],
 "metadata": {
  "kernelspec": {
   "display_name": "Python 3",
   "language": "python",
   "name": "python3"
  },
  "language_info": {
   "codemirror_mode": {
    "name": "ipython",
    "version": 3
   },
   "file_extension": ".py",
   "mimetype": "text/x-python",
   "name": "python",
   "nbconvert_exporter": "python",
   "pygments_lexer": "ipython3",
   "version": "3.6.6"
  }
 },
 "nbformat": 4,
 "nbformat_minor": 2
}
