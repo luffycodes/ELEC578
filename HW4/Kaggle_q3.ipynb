{
 "cells": [
  {
   "cell_type": "markdown",
   "metadata": {},
   "source": [
    "Tried with KNN, Logistic Regression, Naive Bayes, SVM & Random Forests\n",
    "coupled with Logistic Regression.\n",
    "Used cross validation to find best parameters, using parameters found !"
   ]
  },
  {
   "cell_type": "code",
   "execution_count": null,
   "metadata": {},
   "outputs": [],
   "source": [
    "import pandas as pd\n",
    "import numpy as np\n",
    "from sklearn.linear_model import LogisticRegression\n",
    "from sklearn import neighbors\n",
    "from sklearn.naive_bayes import MultinomialNB\n",
    "from sklearn import svm\n",
    "from sklearn.ensemble import RandomForestClassifier\n",
    "\n",
    "train_data = pd.read_csv(\"train_data.csv\").drop('Id', axis=1)\n",
    "train_data_labels = pd.read_csv(\"train_labels.csv\").drop('Id', axis=1)\n",
    "test_data = pd.read_csv(\"test_data.csv\").drop('Id', axis=1)\n",
    "\n",
    "# KNN\n",
    "n_neighbors = 3\n",
    "knn_model = neighbors.KNeighborsClassifier()\n",
    "knn_model.fit(train_data, train_data_labels.values.ravel())\n",
    "class_predict = pd.DataFrame(knn_model.predict(test_data)).to_csv(\"lr_knn_3.csv\")\n",
    "\n",
    "# Logistic Regression\n",
    "lr_model = LogisticRegression(solver='lbfgs')\n",
    "lr_model.fit(train_data, train_data_labels.values.ravel())\n",
    "class_predict = pd.DataFrame(data=np.argmax\n",
    "                             (lr_model.predict_log_proba(test_data), axis=1)\n",
    "                            ).to_csv(\"lr_lbfgs.csv\")\n",
    "\n",
    "# Naive Bayes\n",
    "nb_model = MultinomialNB()\n",
    "nb_model.fit(train_data, train_data_labels.values.ravel())\n",
    "class_predict = pd.DataFrame(data=np.argmax\n",
    "                             (nb_model.predict_log_proba(test_data), axis=1)\n",
    "                            ).to_csv(\"nb.csv\")\n",
    "\n",
    "# SVM\n",
    "svm_model = svm.LinearSVC()\n",
    "svm_model.fit(train_data, train_data_labels.values.ravel())\n",
    "class_predict = pd.DataFrame(data=np.argmax\n",
    "                             (svm_model.decision_function(test_data), axis=1)\n",
    "                            ).to_csv(\"lr_svmLinear.csv\")\n",
    "\n",
    "# Random Forests\n",
    "rf_model = RandomForestClassifier(n_estimators=2000,\n",
    "                                  max_features=\"auto\", max_depth=None)\n",
    "rf_model.fit(train_data, train_data_labels.values.ravel())\n",
    "class_predict = pd.DataFrame(data=rf_model.predict(test_data)\n",
    "                            ).to_csv(\"rf_estimators_2000.csv\")"
   ]
  }
 ],
 "metadata": {
  "kernelspec": {
   "display_name": "Python 3",
   "language": "python",
   "name": "python3"
  },
  "language_info": {
   "codemirror_mode": {
    "name": "ipython",
    "version": 3
   },
   "file_extension": ".py",
   "mimetype": "text/x-python",
   "name": "python",
   "nbconvert_exporter": "python",
   "pygments_lexer": "ipython3",
   "version": "3.6.6"
  }
 },
 "nbformat": 4,
 "nbformat_minor": 2
}
